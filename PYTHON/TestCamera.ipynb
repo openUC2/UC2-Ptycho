{
 "cells": [
  {
   "cell_type": "code",
   "execution_count": 2,
   "metadata": {},
   "outputs": [
    {
     "name": "stdout",
     "output_type": "stream",
     "text": [
      "Arduino not connected\n",
      "Enter a exposure time (in milliseconds, default=500ms): 12000\n",
      "Folder already exists\n",
      "Error in creating the folder\n"
     ]
    }
   ],
   "source": [
    "# -*- coding: utf-8 -*-\n",
    "\n",
    "# GNU nano 2.9.3                                        main.py\n",
    "\n",
    "'''\n",
    "IMPORTANT: Execute as sudo\n",
    "copyright@Bene\n",
    "License GPLv3\n",
    "'''\n",
    "import serial\n",
    "import time\n",
    "import cv2\n",
    "import csv\n",
    "import numpy as np\n",
    "import time, datetime, os\n",
    "import xystepper as xy\n",
    "import bufcam as bufcam\n",
    "\n",
    "# https://blog.miguelgrinberg.com/post/fun-with-the-arduino-esplora-a-digital-picture-frame\n",
    "\n",
    "# define your positionfile here\n",
    "mycsvfile = './DATA/Fermat_FOV1200um_step72um_202points.csv'\n",
    "# Initialize the USB-Serial connection\n",
    "try:\n",
    "    serial = serial.Serial(\"/dev/ttyUSB0\",9600)\n",
    "    time.sleep(1) # connect to ARduino\n",
    "except:\n",
    "    print(\"Arduino not connected\")\n",
    "    \n",
    "\n",
    "# camera paramters \n",
    "myexp_time = 500000 # 180849 #200000  # min=177293 max=2147483647 step=5434 default=18137798 value=18136663 flags=slider\n",
    "myexp_time = input('Enter a exposure time (in milliseconds, default=500ms): ')\n",
    "myexp_time=1000*int(myexp_time)\n",
    "\n",
    "mycamera = '/dev/video0'\n",
    "# parameters for the x/y stage \n",
    "stepsize = 17.27 # One STEPSIZE in X/Y of the cheap-stage  is 17.27 µm\n",
    "myoffsetx = 10  # offset steps for the x dirrection\n",
    "myoffsety = 20 # offset steps for the y dirrection\n",
    "mybacklashx = 7\n",
    "mybacklashy = 50 # this is required to offset the stage from the non-moving rim\n",
    "\n",
    "# create folder for measurements\n",
    "mydatafolder = './RESULTS/'\n",
    "try: \n",
    "\tos.mkdir(mydatafolder)\t\n",
    "except: \n",
    "\tprint('Folder already exists')\n",
    "todaystr = datetime.datetime.now().strftime('%Y-%m-%d_%H-%M-%S')\n",
    "myfolder = mydatafolder + 'ptycho_'+todaystr\n",
    "try: \n",
    "\tos.mkdir(myfolder)\t\n",
    "except:\n",
    "    print('Error in creating the folder')\n"
   ]
  },
  {
   "cell_type": "code",
   "execution_count": 4,
   "metadata": {},
   "outputs": [
    {
     "name": "stdout",
     "output_type": "stream",
     "text": [
      "Opening camera: /dev/video0 with t_exp=1.0s\n",
      "v4l2src device=/dev/video0 extra-controls=\"c,exposure=12000000,exposure_auto=1\" ! video/x-raw, format=BGRx ! videoconvert ! appsink\n",
      "Blank the beam for five seconds\n",
      "Darkframe was acquired frame\n"
     ]
    }
   ],
   "source": [
    "# Initilizae the Camera\n",
    "print('Opening camera: '+mycamera+' with t_exp='+str(1000000/1e6)+'s')\n",
    "#cap = cv2.VideoCapture('/dev/video0', cv2.CAP_V4L2)\n",
    "#cap = cv2.VideoCapture('gst-launch-1.0 v4l2src device=/dev/video0 ! video/x-raw, format=BGRx ! ximagesink')#\n",
    "mycam_cmd = 'v4l2src device='+ mycamera+ ' extra-controls='+'\"'+'c,exposure='+str(myexp_time)+',exposure_auto=1'+'\"' +' ! video/x-raw, format=BGRx ! videoconvert ! appsink'\n",
    "#v4l2src device=/dev/video0 extra-controls=\"c,exposure=200000,exposure_auto=1\" ! video/x-raw, format=BGRx ! ximagesink\n",
    "\n",
    "print(mycam_cmd)\n",
    "# open camera object and display object\n",
    "#cap = cv2.VideoCapture(mycam_cmd, cv2.CAP_GSTREAMER)\n",
    "cap = bufcam.VideoCapture(mycam_cmd) \n",
    "#cap.set(cv2.CAP_PROP_CONVERT_RGB, False);\t# Request raw camera data\n",
    "#print(\"Buffsize:\" + cap.set(cv2.CAP_PROP_BUFFERSIZE))\t\t\n",
    "#cap.set(cv2.CAP_PROP_BUFFERSIZE, 3)\t\t# Limit buffer size to get the exact frame\n",
    "\n",
    "window_handle = cv2.namedWindow(\"CSI Camera\", cv2.WINDOW_AUTOSIZE)\n",
    "\n",
    "#ake a background image first! \n",
    "print(\"Blank the beam for five seconds\") \n",
    "time.sleep(5)\n",
    "# grab a frame and wait until the camera settles\n",
    "print('Darkframe was acquired frame')\n"
   ]
  },
  {
   "cell_type": "code",
   "execution_count": 9,
   "metadata": {
    "scrolled": true
   },
   "outputs": [
    {
     "name": "stdout",
     "output_type": "stream",
     "text": [
      "Darkframe was acquired frame\n",
      "Remove the Beamblocker\n"
     ]
    },
    {
     "ename": "ValueError",
     "evalue": "When changing to a larger dtype, its size must be a divisor of the total size in bytes of the last axis of the array.",
     "output_type": "error",
     "traceback": [
      "\u001b[0;31m---------------------------------------------------------------------------\u001b[0m",
      "\u001b[0;31mValueError\u001b[0m                                Traceback (most recent call last)",
      "\u001b[0;32m<ipython-input-9-efb50b8d1e41>\u001b[0m in \u001b[0;36m<module>\u001b[0;34m\u001b[0m\n\u001b[1;32m      7\u001b[0m \u001b[0;32mif\u001b[0m\u001b[0;34m(\u001b[0m\u001b[0;32mTrue\u001b[0m\u001b[0;34m)\u001b[0m\u001b[0;34m:\u001b[0m\u001b[0;34m\u001b[0m\u001b[0;34m\u001b[0m\u001b[0m\n\u001b[1;32m      8\u001b[0m         \u001b[0;31m#print(ret_val)\u001b[0m\u001b[0;34m\u001b[0m\u001b[0;34m\u001b[0m\u001b[0;34m\u001b[0m\u001b[0m\n\u001b[0;32m----> 9\u001b[0;31m         \u001b[0mframe_16\u001b[0m \u001b[0;34m=\u001b[0m \u001b[0mimg\u001b[0m\u001b[0;34m.\u001b[0m\u001b[0mview\u001b[0m\u001b[0;34m(\u001b[0m\u001b[0mdtype\u001b[0m\u001b[0;34m=\u001b[0m\u001b[0mnp\u001b[0m\u001b[0;34m.\u001b[0m\u001b[0mint16\u001b[0m\u001b[0;34m)\u001b[0m       \u001b[0;31m# reinterpret data as 16-bit pixels\u001b[0m\u001b[0;34m\u001b[0m\u001b[0;34m\u001b[0m\u001b[0m\n\u001b[0m\u001b[1;32m     10\u001b[0m         \u001b[0mframe_sh\u001b[0m \u001b[0;34m=\u001b[0m \u001b[0mnp\u001b[0m\u001b[0;34m.\u001b[0m\u001b[0mright_shift\u001b[0m\u001b[0;34m(\u001b[0m\u001b[0mframe_16\u001b[0m\u001b[0;34m,\u001b[0m \u001b[0;36m2\u001b[0m\u001b[0;34m)\u001b[0m      \u001b[0;31m# Shift away the bottom 2 bits\u001b[0m\u001b[0;34m\u001b[0m\u001b[0;34m\u001b[0m\u001b[0m\n\u001b[1;32m     11\u001b[0m         \u001b[0mframe_8\u001b[0m  \u001b[0;34m=\u001b[0m \u001b[0mframe_sh\u001b[0m\u001b[0;34m.\u001b[0m\u001b[0mastype\u001b[0m\u001b[0;34m(\u001b[0m\u001b[0mnp\u001b[0m\u001b[0;34m.\u001b[0m\u001b[0muint8\u001b[0m\u001b[0;34m)\u001b[0m        \u001b[0;31m# Keep the top 8 bits\u001b[0m\u001b[0;34m\u001b[0m\u001b[0;34m\u001b[0m\u001b[0m\n",
      "\u001b[0;31mValueError\u001b[0m: When changing to a larger dtype, its size must be a divisor of the total size in bytes of the last axis of the array."
     ]
    }
   ],
   "source": [
    "print('Darkframe was acquired frame')\n",
    "img = cap.read()\n",
    "print('Remove the Beamblocker')\n",
    "# write out the image information\n",
    "cap.cap.set(cv2.CAP_PROP_CONVERT_RGB, False);          # Request raw camera data\n",
    "\n",
    "if(True):\n",
    "\t#print(ret_val)\n",
    "\tframe_16 = img.view(dtype=np.int16)       # reinterpret data as 16-bit pixels\n",
    "\tframe_sh = np.right_shift(frame_16, 2)      # Shift away the bottom 2 bits\n",
    "\tframe_8  = frame_sh.astype(np.uint8)        # Keep the top 8 bits       \n",
    "\timg      = frame_8.reshape(img.shape[0], img.shape[1])        # Arrange them into a rectangle\n",
    "\n",
    "cv2.imwrite(myfolder+'/background.tif', img)\n",
    "try:\n",
    "    cv2.imshow(\"CSI Camera\", img)\n",
    "except:\n",
    "    print('Could not display frame?!')\n",
    "\n"
   ]
  },
  {
   "cell_type": "code",
   "execution_count": null,
   "metadata": {},
   "outputs": [],
   "source": []
  }
 ],
 "metadata": {
  "kernelspec": {
   "display_name": "Python 3",
   "language": "python",
   "name": "python3"
  },
  "language_info": {
   "codemirror_mode": {
    "name": "ipython",
    "version": 3
   },
   "file_extension": ".py",
   "mimetype": "text/x-python",
   "name": "python",
   "nbconvert_exporter": "python",
   "pygments_lexer": "ipython3",
   "version": "3.6.9"
  }
 },
 "nbformat": 4,
 "nbformat_minor": 4
}
